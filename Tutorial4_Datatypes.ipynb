{
  "nbformat": 4,
  "nbformat_minor": 0,
  "metadata": {
    "colab": {
      "name": "Tutorial4_Datatypes.ipynb",
      "provenance": [],
      "authorship_tag": "ABX9TyOQfNjK7YGVQ/V88lW2dREM",
      "include_colab_link": true
    },
    "kernelspec": {
      "name": "python3",
      "display_name": "Python 3"
    }
  },
  "cells": [
    {
      "cell_type": "markdown",
      "metadata": {
        "id": "view-in-github",
        "colab_type": "text"
      },
      "source": [
        "<a href=\"https://colab.research.google.com/github/Shambhavi-Gupta/Tutorial4_Datatypes-TypeConversion/blob/main/Tutorial4_Datatypes.ipynb\" target=\"_parent\"><img src=\"https://colab.research.google.com/assets/colab-badge.svg\" alt=\"Open In Colab\"/></a>"
      ]
    },
    {
      "cell_type": "code",
      "metadata": {
        "id": "B1bsiZrgoOM5"
      },
      "source": [
        "#DATA TYPES\r\n",
        "#print(type(123))\r\n",
        "#print(type(\"Hello world\"))\r\n",
        "#x = True\r\n",
        "#print(type(x))\r\n",
        "#EXPLICIT TYPE CONVERSION\r\n",
        "a = 1\r\n",
        "b = \"10\"\r\n",
        "print(type(a))\r\n",
        "print(type(b))\r\n",
        "b = int(b)     # b=10\r\n",
        "sum = a + b\r\n",
        "print(sum)\r\n",
        "print(type(sum))"
      ],
      "execution_count": null,
      "outputs": []
    }
  ]
}